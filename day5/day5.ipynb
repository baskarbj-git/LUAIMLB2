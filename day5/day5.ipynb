{
 "cells": [
  {
   "cell_type": "markdown",
   "metadata": {},
   "source": [
    "# Question 1 :\n",
    "Write a Python program to find the first 20 non-even prime natural numbers.\n"
   ]
  },
  {
   "cell_type": "code",
   "execution_count": 17,
   "metadata": {},
   "outputs": [
    {
     "name": "stdout",
     "output_type": "stream",
     "text": [
      "[3, 5, 7, 11, 13, 17, 19, 23, 29, 31, 37, 41, 43, 47, 53, 59, 61, 67, 71, 73]\n"
     ]
    }
   ],
   "source": [
    "primes = []\n",
    "test_num = 3 #start from 3, as 1 is neither prime nor composite. 2 is even.\n",
    "\n",
    "while len(primes) < 20:\n",
    "    is_prime = True\n",
    "\n",
    "    if  test_num % 2 != 0:\n",
    "        for num in range(2, test_num):\n",
    "            if test_num % num == 0:\n",
    "                is_prime=False\n",
    "                break\n",
    "        if is_prime:\n",
    "            primes.append(test_num)\n",
    "    test_num += 2\n",
    "print(primes)\n",
    "    "
   ]
  },
  {
   "cell_type": "markdown",
   "metadata": {},
   "source": [
    "# Question 2 :\n",
    "Write a Python program to implement 15 functions of string.\n"
   ]
  },
  {
   "cell_type": "code",
   "execution_count": 33,
   "metadata": {},
   "outputs": [
    {
     "name": "stdout",
     "output_type": "stream",
     "text": [
      " MACHINE LEARNING IS FUN  \n",
      " machine learning is fun  \n",
      " machine learning is fun  \n",
      " Machine Learning is everywhere  \n",
      "False\n",
      "21\n",
      "False\n",
      "['', 'Machine', 'Learning', 'is', 'Fun', '', '']\n",
      " mACHINE lEARNING IS fUN  \n",
      "Machine Learning is Fun\n",
      "(' Machine Learning ', 'is', ' Fun  ')\n",
      "True\n",
      "False\n",
      "0\n",
      "25\n"
     ]
    }
   ],
   "source": [
    "test_str = \" Machine Learning is Fun  \"\n",
    "\n",
    "print(test_str.upper())\n",
    "print(test_str.lower())\n",
    "print(test_str.capitalize())\n",
    "print(test_str.replace('Fun', 'everywhere'))\n",
    "print(test_str.isalnum())\n",
    "print(test_str.find('Fun'))\n",
    "print(test_str.isnumeric())\n",
    "print(test_str.split(' '))\n",
    "print(test_str.swapcase())\n",
    "print(test_str.strip())\n",
    "print(test_str.partition('is'))\n",
    "print(test_str.startswith(' Mac'))\n",
    "print(test_str.endswith('end'))\n",
    "print(test_str.index(' '))\n",
    "print(test_str.rindex(' '))"
   ]
  },
  {
   "cell_type": "markdown",
   "metadata": {},
   "source": [
    "# Question 3:\n",
    "Write a Python program to check if the given string is a Palindrome or Anagram or None of them. Display\n",
    "the message accordingly to the user.\n"
   ]
  },
  {
   "cell_type": "code",
   "execution_count": 47,
   "metadata": {},
   "outputs": [
    {
     "name": "stdout",
     "output_type": "stream",
     "text": [
      "rotor is a palindrome\n",
      "radar is a palindrome\n",
      "racecar is a palindrome\n",
      "frod is not a palindrome\n",
      "listen & silent are anagrams\n",
      "gully & uglyl are anagrams\n",
      "listen & silence are not anagrams\n"
     ]
    }
   ],
   "source": [
    "def check_palindrome(test):\n",
    "    length = len(test)\n",
    "    last_index = length-1\n",
    "    for s in range(length):\n",
    "        if test[s] != test[last_index]:\n",
    "            print(test+' is not a palindrome')\n",
    "            return\n",
    "        last_index -= 1\n",
    "    print(test+' is a palindrome')\n",
    "\n",
    "def check_anagram(test1, test2):\n",
    "    if sorted(test1) == sorted(test2):\n",
    "        print(test1+' & '+ test2 +' are anagrams')\n",
    "    else:\n",
    "        print(test1+' & '+ test2 +' are not anagrams')\n",
    "\n",
    "check_palindrome('rotor')\n",
    "check_palindrome('radar')\n",
    "check_palindrome('racecar')\n",
    "check_palindrome('frod')\n",
    "\n",
    "check_anagram('listen','silent')\n",
    "check_anagram('gully','uglyl')\n",
    "check_anagram('listen','silence')"
   ]
  },
  {
   "cell_type": "markdown",
   "metadata": {},
   "source": [
    "# Question 4:\n",
    "Write a Python's user-defined function that removes all the additional characters from the string and\n",
    "convert it finally to lower case using built-in lower(). eg: If the string is \"Dr. Darshan Ingle @AIML Trainer\",\n",
    "then the output be \"drdarshaningleaimltrainer\"."
   ]
  },
  {
   "cell_type": "code",
   "execution_count": 19,
   "metadata": {},
   "outputs": [
    {
     "name": "stdout",
     "output_type": "stream",
     "text": [
      "['drdarshaningleaimltrainer', 'drxyzisus', 'mrabcagg', 'sircvramanetal']\n"
     ]
    }
   ],
   "source": [
    "import re\n",
    "\n",
    "def transform_string(text):\n",
    "    return re.sub('[^A-za-z0-9]', '',text).lower()\n",
    "\n",
    "text_list=[\"Dr. Darshan Ingle @AIML Trainer\", \"Dr.xyz is @US\", \"Mr.abc = Ag.g\", \"Sir CV Raman et.al  \"]\n",
    "mod_list = [transform_string(text) for text in text_list]\n",
    "print(mod_list)"
   ]
  }
 ],
 "metadata": {
  "kernelspec": {
   "display_name": "Python 3",
   "language": "python",
   "name": "python3"
  },
  "language_info": {
   "codemirror_mode": {
    "name": "ipython",
    "version": 3
   },
   "file_extension": ".py",
   "mimetype": "text/x-python",
   "name": "python",
   "nbconvert_exporter": "python",
   "pygments_lexer": "ipython3",
   "version": "3.8.1"
  }
 },
 "nbformat": 4,
 "nbformat_minor": 4
}
