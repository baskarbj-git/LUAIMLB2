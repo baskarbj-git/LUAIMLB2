{
 "cells": [
  {
   "cell_type": "markdown",
   "metadata": {},
   "source": [
    "# Question 1 :\n",
    "Assuming that we have some email addresses in the \"username@companyname.com\" format, please\n",
    "write a program to print the company name of a given email address. Both user names and company\n",
    "names are composed of letters only.\n",
    "Input Format:\n",
    "The first line of the input contains an email address.\n",
    "Output Format:\n",
    "Print the company name in a single line.\n",
    "Example;\n",
    "Input:\n",
    "john@google.com\n",
    "Output:\n",
    "google."
   ]
  },
  {
   "cell_type": "code",
   "execution_count": 68,
   "metadata": {},
   "outputs": [
    {
     "name": "stdout",
     "output_type": "stream",
     "text": [
      "Input: abc@google.com Output: google\n",
      "Input: abc@microsoft.com Output: microsoft\n",
      "Input: abc@apple.com Output: apple\n",
      "Input: @google Output: \n"
     ]
    }
   ],
   "source": [
    "import re\n",
    "\n",
    "def get_company(test):\n",
    "    company = re.findall('.*@(.*).com', test)\n",
    "    if len(company) == 0:\n",
    "        return ''\n",
    "    return company[0]\n",
    "\n",
    "emails = ['abc@google.com', 'abc@microsoft.com', 'abc@apple.com', '@google']\n",
    "\n",
    "for email in emails:\n",
    "    print(f'Input: %s Output: %s'%(email, str(get_company(email))))\n"
   ]
  },
  {
   "cell_type": "markdown",
   "metadata": {},
   "source": [
    "# Question 2 :\n",
    "Write a program that accepts a comma-separated sequence of words as input and prints the words in a\n",
    "comma-separated sequence after sorting them alphabetically.\n",
    "Input Format:\n",
    "The first line of input contains words separated by the comma.\n",
    "Output Format:\n",
    "Print the sorted words separated by the comma.\n",
    "Example:\n",
    "Input:\n",
    "without,hello,bag,world\n",
    "Output:\n",
    "bag,hello,without,world"
   ]
  },
  {
   "cell_type": "code",
   "execution_count": 72,
   "metadata": {},
   "outputs": [
    {
     "name": "stdout",
     "output_type": "stream",
     "text": [
      "Input:\n",
      "rrr,ttt,yyy,aaa\n",
      "Input: rrr,ttt,yyy,aaa Output: aaa,rrr,ttt,yyy\n"
     ]
    }
   ],
   "source": [
    "text_in = input(\"Input:\\n\")\n",
    "split_list = text_in.split(',')\n",
    "mod_list = map(lambda x:x.strip(), split_list)\n",
    "print(f'Input: %s Output: %s'%(text_in,','.join(sorted(mod_list))))"
   ]
  },
  {
   "cell_type": "markdown",
   "metadata": {},
   "source": [
    "# Question 3:\n",
    "Create your own Jupyter Notebook for Sets. Reference link:\n",
    "https://www.w3schools.com/python/python_sets.asp"
   ]
  },
  {
   "cell_type": "markdown",
   "metadata": {},
   "source": [
    "\"Created a separate ipynb 'day6_sets'. Please refer the same\""
   ]
  },
  {
   "cell_type": "markdown",
   "metadata": {},
   "source": [
    "# Question 4:\n",
    "Given a list of n-1 numbers ranging from 1 to n, your task is to find the missing number. There are no\n",
    "duplicates.\n",
    "Input Format:\n",
    "The first line contains n-1 numbers with each number separated by a space.\n",
    "Output Format:\n",
    "Print the missing number\n",
    "Example:\n",
    "Input:\n",
    "1 2 4 6 3 7 8\n",
    "Output:\n",
    "5\n",
    "Explanation:\n",
    "In the above list of numbers 5 is missing and hence 5 is the input"
   ]
  },
  {
   "cell_type": "code",
   "execution_count": 70,
   "metadata": {},
   "outputs": [
    {
     "name": "stdout",
     "output_type": "stream",
     "text": [
      "Input: 4 5 8 1 9 2 6 7 10 Output: 3\n",
      "Input: 4 5 8 1 9 2 6 7 3 Output: 10\n",
      "Input: 4 5 8 1 3 2 6 7 10 Output: 9\n"
     ]
    }
   ],
   "source": [
    "def find_missing(n, elements):\n",
    "    exp_total = n*(n+1)/2\n",
    "    act_total = sum(elements)\n",
    "    return exp_total - act_total\n",
    "\n",
    "test_inputs = [[4,5,8,1,9,2,6,7,10], [4,5,8,1,9,2,6,7,3], [4,5,8,1,3,2,6,7,10]]\n",
    "\n",
    "for e in test_inputs:\n",
    "    print(f'Input: %s Output: %s'%(' '.join(map(lambda x:str(x),e)),int(find_missing(n=10, elements=e))))"
   ]
  },
  {
   "cell_type": "markdown",
   "metadata": {},
   "source": [
    "# Question 5:\n",
    "With a given list L, write a program to print this list L after removing all duplicate values with original order\n",
    "reserved.\n",
    "Example:\n",
    "If the input list is\n",
    "12 24 35 24 88 120 155 88 120 155\n",
    "Then the output should be\n",
    "12 24 35 88 120 155\n",
    "Explanation:\n",
    "Third, the seventh and ninth element of the list L has been removed because it was already present.\n",
    "Input Format:\n",
    "In one line take the elements of the list L with each element separated by a space.\n",
    "Output Format:\n",
    "Print the elements of the modified list in one line with each element separated by a space.\n",
    "Example:\n",
    "Input:\n",
    "12 24 35 24\n",
    "Output:\n",
    "12 24 35"
   ]
  },
  {
   "cell_type": "code",
   "execution_count": 71,
   "metadata": {},
   "outputs": [
    {
     "name": "stdout",
     "output_type": "stream",
     "text": [
      "Input: 34 56 78 90 34 56 Output: 34 56 78 90\n",
      "Input: 333 444 555 333 888 Output: 333 444 555 888\n",
      "Input: 12 56 99 99 99 56 Output: 12 56 99\n"
     ]
    }
   ],
   "source": [
    "def remove_duplicates(in_num):\n",
    "    out_num = []\n",
    "    temp = {}\n",
    "    in_num_split = in_num.split(' ')\n",
    "    in_num_int = list(map(lambda x:int(x.strip()),in_num_split))\n",
    "\n",
    "    for num in in_num_int:\n",
    "        if num not in temp:\n",
    "            temp[num] = 1\n",
    "            out_num.append(num)\n",
    "    return out_num\n",
    "\n",
    "test_elements = ['34 56 78 90 34 56', '333 444 555 333 888', '12 56 99 99 99 56']            \n",
    "\n",
    "for element in test_elements:\n",
    "    print(f\"Input: %s Output: %s\"%(element,' '.join(map(lambda x:str(x),remove_duplicates(element)))))"
   ]
  }
 ],
 "metadata": {
  "kernelspec": {
   "display_name": "Python 3",
   "language": "python",
   "name": "python3"
  },
  "language_info": {
   "codemirror_mode": {
    "name": "ipython",
    "version": 3
   },
   "file_extension": ".py",
   "mimetype": "text/x-python",
   "name": "python",
   "nbconvert_exporter": "python",
   "pygments_lexer": "ipython3",
   "version": "3.8.1"
  }
 },
 "nbformat": 4,
 "nbformat_minor": 4
}
