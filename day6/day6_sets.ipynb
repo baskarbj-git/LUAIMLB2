{
 "cells": [
  {
   "cell_type": "code",
   "execution_count": 16,
   "metadata": {},
   "outputs": [
    {
     "name": "stdout",
     "output_type": "stream",
     "text": [
      "{'test2', 'test3', 'test1'}\n",
      "{'test2', 'test1', (1, 2, 3)}\n",
      "{'test2', 'test1', 44}\n",
      "{'test2', 'test1', 12.5}\n"
     ]
    }
   ],
   "source": [
    "# Set is an unordered, unindexed collection that stores unique elements of any immutable type\n",
    "# Set disallows adding unhashable types like list or dict\n",
    "# Once set is created elements cannot be changed. Can Contain only immutable elements.\n",
    "\n",
    "# Ways to create\n",
    "\n",
    "temp_set={'test1', 'test2', 'test3'}\n",
    "temp_set1=set({'test1', 'test2', (1,2,3)})\n",
    "temp_set2=set(('test1', 'test2', 44))\n",
    "temp_set3=set(['test1', 'test2', 12.5])\n",
    "\n",
    "print(temp_set)\n",
    "print(temp_set1)\n",
    "print(temp_set2)\n",
    "print(temp_set3)"
   ]
  },
  {
   "cell_type": "code",
   "execution_count": 17,
   "metadata": {},
   "outputs": [
    {
     "name": "stdout",
     "output_type": "stream",
     "text": [
      "{'test2', 'test3', 'test1'}\n"
     ]
    }
   ],
   "source": [
    "#Cannot add duplicates\n",
    "temp_set={'test1', 'test2', 'test3'}\n",
    "temp_set.add('test1')\n",
    "print(temp_set)"
   ]
  },
  {
   "cell_type": "code",
   "execution_count": 38,
   "metadata": {},
   "outputs": [
    {
     "name": "stdout",
     "output_type": "stream",
     "text": [
      "test3\n",
      "test1\n",
      "(1, 2, 3)\n",
      "True\n",
      "False\n",
      "3\n"
     ]
    }
   ],
   "source": [
    "#Reading, Iterating\n",
    "temp_set={'test1', (1,2,3), 'test3'}\n",
    "for i in temp_set:\n",
    "    print(i)\n",
    "    \n",
    "print('test1' in temp_set)\n",
    "print('test5' in temp_set)\n",
    "print(len(temp_set))"
   ]
  },
  {
   "cell_type": "code",
   "execution_count": 34,
   "metadata": {},
   "outputs": [
    {
     "name": "stdout",
     "output_type": "stream",
     "text": [
      "{'test3', 'bbb', 'test1', (1, 2, 3)}\n",
      "{'test3', 'bbb', 'test1'}\n",
      "{'bbb', 'test1'}\n",
      "{(3, 4), 3, 4, 5}\n"
     ]
    }
   ],
   "source": [
    "#Updating/Changing not possible. Can add/remove elements from the set\n",
    "\n",
    "temp_set={'test1', (1,2,3), 'test3'}\n",
    "temp_set.add('bbb')\n",
    "\n",
    "print(temp_set)\n",
    "temp_set.remove((1,2,3))\n",
    "print(temp_set)\n",
    "temp_set.pop() #removes last item\n",
    "print(temp_set)\n",
    "temp_set.clear()\n",
    "\n",
    "temp_set.update([3,4,5,(3,4)])\n",
    "print(temp_set)\n",
    "\n",
    "del temp_set #Undefines the set"
   ]
  },
  {
   "cell_type": "code",
   "execution_count": 37,
   "metadata": {},
   "outputs": [
    {
     "name": "stdout",
     "output_type": "stream",
     "text": [
      "Union:{1, 2, 3, 4, 5, 6}\n",
      "Intersection:{3, 4}\n",
      "Set1 Difference Set2:{1, 2}\n",
      "Set2 Difference Set1:{5, 6}\n"
     ]
    }
   ],
   "source": [
    "#Union/Intersection/Difference\n",
    "\n",
    "set1 = {1,2,3,4}\n",
    "set2 = {3,4,5,6}\n",
    "\n",
    "print('Union:'+str(set1.union(set2)))\n",
    "print('Intersection:'+str(set1.intersection(set2)))\n",
    "print('Set1 Difference Set2:'+str(set1.difference(set2)))\n",
    "print('Set2 Difference Set1:'+str(set2.difference(set1)))\n"
   ]
  }
 ],
 "metadata": {
  "kernelspec": {
   "display_name": "Python 3",
   "language": "python",
   "name": "python3"
  },
  "language_info": {
   "codemirror_mode": {
    "name": "ipython",
    "version": 3
   },
   "file_extension": ".py",
   "mimetype": "text/x-python",
   "name": "python",
   "nbconvert_exporter": "python",
   "pygments_lexer": "ipython3",
   "version": "3.8.1"
  }
 },
 "nbformat": 4,
 "nbformat_minor": 4
}
