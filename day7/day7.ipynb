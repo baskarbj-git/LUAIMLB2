{
 "cells": [
  {
   "cell_type": "markdown",
   "metadata": {},
   "source": [
    "# Question 1:\n",
    "Write a program to copy the contents of one file to another using a for loop. (Don’t use built-in copy\n",
    "function)"
   ]
  },
  {
   "cell_type": "code",
   "execution_count": 25,
   "metadata": {},
   "outputs": [],
   "source": [
    "def copy_file(src, dest):\n",
    "    with open(src, \"r\") as src:\n",
    "        with open(dest, \"w+\") as dest:\n",
    "            for text in src:\n",
    "                dest.write(text)\n",
    "copy_file('src.txt', 'dest.txt')"
   ]
  },
  {
   "cell_type": "markdown",
   "metadata": {},
   "source": [
    "# Question 2:\n",
    "\n",
    "Write a Python program to find maximum and minimum values in the dictionary. Do not use built-in min\n",
    "and max functions"
   ]
  },
  {
   "cell_type": "code",
   "execution_count": 26,
   "metadata": {},
   "outputs": [
    {
     "name": "stdout",
     "output_type": "stream",
     "text": [
      "Min: 65 Max: 68\n",
      "Min: -8 Max: 90009\n",
      "Min: -8 Max: 681\n"
     ]
    }
   ],
   "source": [
    "def get_min_max_dictvalue(test_dict):\n",
    "    min_value = max_value = 0\n",
    "    init = False\n",
    "    for v in test_dict.values():\n",
    "        if not init:\n",
    "            min_value = max_value = v\n",
    "            init = True\n",
    "        if v < min_value:\n",
    "            min_value = v\n",
    "        if v > max_value:\n",
    "            max_value = v\n",
    "    return min_value, max_value\n",
    "\n",
    "test_inputs = [{'a':65,'b':66, 'c':67,'d':68}, \n",
    "               {'a':65,'b':66,'c':67,'d':681, 't':-8,'ff':90009},\n",
    "               {'a':65,'b':66,'c':67,'d':681, 't':-8,'ff':0}]\n",
    "\n",
    "for testin in test_inputs:\n",
    "    minv, maxv = get_min_max_dictvalue(testin)\n",
    "    print(f\"Min: %d Max: %d\"%(minv, maxv))    "
   ]
  }
 ],
 "metadata": {
  "kernelspec": {
   "display_name": "Python 3",
   "language": "python",
   "name": "python3"
  },
  "language_info": {
   "codemirror_mode": {
    "name": "ipython",
    "version": 3
   },
   "file_extension": ".py",
   "mimetype": "text/x-python",
   "name": "python",
   "nbconvert_exporter": "python",
   "pygments_lexer": "ipython3",
   "version": "3.8.1"
  }
 },
 "nbformat": 4,
 "nbformat_minor": 4
}
