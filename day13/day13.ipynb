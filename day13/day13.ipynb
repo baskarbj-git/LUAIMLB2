{
 "cells": [
  {
   "cell_type": "markdown",
   "metadata": {},
   "source": [
    "# Prepare a case study for the given Dataset to implement the following steps:\n",
    "Steps:\n",
    "1. Import different required library\n",
    "2. Check the version of the Library\n",
    "3. Go for different observation like Info, description\n",
    "4. Check null Values\n",
    "5. Check duplicate values\n",
    "6. Filter for different condition - come up with insights from the dataset, basic plot, distribution plots\n",
    "7. Use a histogram to plot different columns"
   ]
  },
  {
   "cell_type": "code",
   "execution_count": 12,
   "metadata": {},
   "outputs": [
    {
     "name": "stdout",
     "output_type": "stream",
     "text": [
      "1.19.2\n",
      "1.1.2\n",
      "3.3.2\n"
     ]
    }
   ],
   "source": [
    "# 1.Import required libs\n",
    "import os\n",
    "import numpy as np\n",
    "import pandas as pd\n",
    "import matplotlib\n",
    "import matplotlib.pyplot as plt\n",
    "\n",
    "# 2. Check versions\n",
    "print(np.__version__)\n",
    "print(pd.__version__)\n",
    "print(matplotlib.__version__)\n",
    "\n",
    "#Load dataset\n",
    "cars = pd.read_csv(os.path.join('.','cars.csv'))"
   ]
  },
  {
   "cell_type": "code",
   "execution_count": 14,
   "metadata": {},
   "outputs": [
    {
     "name": "stdout",
     "output_type": "stream",
     "text": [
      "<class 'pandas.core.frame.DataFrame'>\n",
      "RangeIndex: 36 entries, 0 to 35\n",
      "Data columns (total 5 columns):\n",
      " #   Column  Non-Null Count  Dtype \n",
      "---  ------  --------------  ----- \n",
      " 0   Car     36 non-null     object\n",
      " 1   Model   36 non-null     object\n",
      " 2   Volume  36 non-null     int64 \n",
      " 3   Weight  36 non-null     int64 \n",
      " 4   CO2     36 non-null     int64 \n",
      "dtypes: int64(3), object(2)\n",
      "memory usage: 1.2+ KB\n"
     ]
    }
   ],
   "source": [
    "# 3. Printing Info\n",
    "cars.info()"
   ]
  },
  {
   "cell_type": "code",
   "execution_count": 16,
   "metadata": {},
   "outputs": [
    {
     "data": {
      "text/html": [
       "<div>\n",
       "<style scoped>\n",
       "    .dataframe tbody tr th:only-of-type {\n",
       "        vertical-align: middle;\n",
       "    }\n",
       "\n",
       "    .dataframe tbody tr th {\n",
       "        vertical-align: top;\n",
       "    }\n",
       "\n",
       "    .dataframe thead th {\n",
       "        text-align: right;\n",
       "    }\n",
       "</style>\n",
       "<table border=\"1\" class=\"dataframe\">\n",
       "  <thead>\n",
       "    <tr style=\"text-align: right;\">\n",
       "      <th></th>\n",
       "      <th>Volume</th>\n",
       "      <th>Weight</th>\n",
       "      <th>CO2</th>\n",
       "    </tr>\n",
       "  </thead>\n",
       "  <tbody>\n",
       "    <tr>\n",
       "      <th>count</th>\n",
       "      <td>36.000000</td>\n",
       "      <td>36.000000</td>\n",
       "      <td>36.000000</td>\n",
       "    </tr>\n",
       "    <tr>\n",
       "      <th>mean</th>\n",
       "      <td>1611.111111</td>\n",
       "      <td>1292.277778</td>\n",
       "      <td>102.027778</td>\n",
       "    </tr>\n",
       "    <tr>\n",
       "      <th>std</th>\n",
       "      <td>388.975047</td>\n",
       "      <td>242.123889</td>\n",
       "      <td>7.454571</td>\n",
       "    </tr>\n",
       "    <tr>\n",
       "      <th>min</th>\n",
       "      <td>900.000000</td>\n",
       "      <td>790.000000</td>\n",
       "      <td>90.000000</td>\n",
       "    </tr>\n",
       "    <tr>\n",
       "      <th>25%</th>\n",
       "      <td>1475.000000</td>\n",
       "      <td>1117.250000</td>\n",
       "      <td>97.750000</td>\n",
       "    </tr>\n",
       "    <tr>\n",
       "      <th>50%</th>\n",
       "      <td>1600.000000</td>\n",
       "      <td>1329.000000</td>\n",
       "      <td>99.000000</td>\n",
       "    </tr>\n",
       "    <tr>\n",
       "      <th>75%</th>\n",
       "      <td>2000.000000</td>\n",
       "      <td>1418.250000</td>\n",
       "      <td>105.000000</td>\n",
       "    </tr>\n",
       "    <tr>\n",
       "      <th>max</th>\n",
       "      <td>2500.000000</td>\n",
       "      <td>1746.000000</td>\n",
       "      <td>120.000000</td>\n",
       "    </tr>\n",
       "  </tbody>\n",
       "</table>\n",
       "</div>"
      ],
      "text/plain": [
       "            Volume       Weight         CO2\n",
       "count    36.000000    36.000000   36.000000\n",
       "mean   1611.111111  1292.277778  102.027778\n",
       "std     388.975047   242.123889    7.454571\n",
       "min     900.000000   790.000000   90.000000\n",
       "25%    1475.000000  1117.250000   97.750000\n",
       "50%    1600.000000  1329.000000   99.000000\n",
       "75%    2000.000000  1418.250000  105.000000\n",
       "max    2500.000000  1746.000000  120.000000"
      ]
     },
     "execution_count": 16,
     "metadata": {},
     "output_type": "execute_result"
    }
   ],
   "source": [
    "# 3. Printing Description\n",
    "cars.describe()"
   ]
  },
  {
   "cell_type": "code",
   "execution_count": 51,
   "metadata": {},
   "outputs": [
    {
     "data": {
      "text/plain": [
       "Car       False\n",
       "Model     False\n",
       "Volume    False\n",
       "Weight    False\n",
       "CO2       False\n",
       "dtype: bool"
      ]
     },
     "execution_count": 51,
     "metadata": {},
     "output_type": "execute_result"
    }
   ],
   "source": [
    "# 4. Null Values Check\n",
    "cars.isnull().any()"
   ]
  },
  {
   "cell_type": "code",
   "execution_count": 55,
   "metadata": {},
   "outputs": [
    {
     "data": {
      "text/plain": [
       "0     False\n",
       "1     False\n",
       "2     False\n",
       "3     False\n",
       "4     False\n",
       "5     False\n",
       "6     False\n",
       "7     False\n",
       "8     False\n",
       "9     False\n",
       "10    False\n",
       "11    False\n",
       "12    False\n",
       "13    False\n",
       "14    False\n",
       "15    False\n",
       "16    False\n",
       "17    False\n",
       "18    False\n",
       "19    False\n",
       "20    False\n",
       "21    False\n",
       "22    False\n",
       "23    False\n",
       "24    False\n",
       "25    False\n",
       "26    False\n",
       "27    False\n",
       "28    False\n",
       "29    False\n",
       "30    False\n",
       "31    False\n",
       "32    False\n",
       "33    False\n",
       "34    False\n",
       "35    False\n",
       "dtype: bool"
      ]
     },
     "execution_count": 55,
     "metadata": {},
     "output_type": "execute_result"
    }
   ],
   "source": [
    "# 5. Duplicate Values check\n",
    "cars.duplicated()"
   ]
  },
  {
   "cell_type": "code",
   "execution_count": 56,
   "metadata": {},
   "outputs": [
    {
     "name": "stdout",
     "output_type": "stream",
     "text": [
      "         Car    Model  Volume  Weight  CO2\n",
      "7   Mercedes  A-Class    1500    1365   92\n",
      "22  Mercedes  C-Class    2100    1365   99\n",
      "25  Mercedes      CLA    1500    1465  102\n",
      "30  Mercedes  E-Class    2100    1605  115\n",
      "35  Mercedes      SLK    2500    1395  120\n"
     ]
    }
   ],
   "source": [
    "# 6.Filter by car name\n",
    "print(cars[cars.Car == 'Mercedes'])"
   ]
  },
  {
   "cell_type": "code",
   "execution_count": 57,
   "metadata": {},
   "outputs": [
    {
     "data": {
      "text/plain": [
       "Car         Model       Volume  Weight  CO2\n",
       "Volvo       XC70        2000    1746    117    1\n",
       "            V70         1600    1523    109    1\n",
       "Mazda       3           2200    1280    104    1\n",
       "Hyundai     I20         1100    980     99     1\n",
       "Hundai      I30         1600    1326    97     1\n",
       "Honda       Civic       1600    1252    94     1\n",
       "Ford        Mondeo      1600    1584    94     1\n",
       "            Focus       2000    1328    105    1\n",
       "            Fiesta      1500    1112    98     1\n",
       "                        1000    1112    99     1\n",
       "            B-Max       1600    1235    104    1\n",
       "Fiat        500         900     865     90     1\n",
       "BMW         5           2000    1705    114    1\n",
       "            2           1600    1390    108    1\n",
       "            1           1600    1365    99     1\n",
       "Audi        A6          2000    1725    114    1\n",
       "            A4          2000    1490    104    1\n",
       "Mercedes    A-Class     1500    1365    92     1\n",
       "            C-Class     2100    1365    99     1\n",
       "            CLA         1500    1465    102    1\n",
       "Skoda       Fabia       1400    1109    90     1\n",
       "Volvo       S60         2000    1415    99     1\n",
       "VW          Up!         1000    929     105    1\n",
       "Toyota      Aygo        1000    790     99     1\n",
       "Suzuki      Swift       1300    990     101    1\n",
       "Skoda       Rapid       1600    1119    104    1\n",
       "            Octavia     1600    1415    99     1\n",
       "            Citigo      1000    929     95     1\n",
       "Mercedes    E-Class     2100    1605    115    1\n",
       "Opel        Zafira      1600    1405    109    1\n",
       "            Insignia    2000    1428    99     1\n",
       "            Astra       1600    1330    97     1\n",
       "Mitsubishi  Space Star  1200    1160    95     1\n",
       "Mini        Cooper      1500    1140    105    1\n",
       "Mercedes    SLK         2500    1395    120    1\n",
       "Audi        A1          1600    1150    99     1\n",
       "dtype: int64"
      ]
     },
     "execution_count": 57,
     "metadata": {},
     "output_type": "execute_result"
    }
   ],
   "source": [
    "cars.value_counts()"
   ]
  },
  {
   "cell_type": "code",
   "execution_count": 58,
   "metadata": {},
   "outputs": [
    {
     "name": "stdout",
     "output_type": "stream",
     "text": [
      "         Car     Model  Volume  Weight  CO2\n",
      "7   Mercedes   A-Class    1500    1365   92\n",
      "13     Honda     Civic    1600    1252   94\n",
      "14    Hundai       I30    1600    1326   97\n",
      "15      Opel     Astra    1600    1330   97\n",
      "16       BMW         1    1600    1365   99\n",
      "17     Mazda         3    2200    1280  104\n",
      "19      Ford     Focus    2000    1328  105\n",
      "20      Ford    Mondeo    1600    1584   94\n",
      "21      Opel  Insignia    2000    1428   99\n",
      "22  Mercedes   C-Class    2100    1365   99\n",
      "23     Skoda   Octavia    1600    1415   99\n",
      "24     Volvo       S60    2000    1415   99\n",
      "25  Mercedes       CLA    1500    1465  102\n",
      "26      Audi        A4    2000    1490  104\n",
      "27      Audi        A6    2000    1725  114\n",
      "28     Volvo       V70    1600    1523  109\n",
      "29       BMW         5    2000    1705  114\n",
      "30  Mercedes   E-Class    2100    1605  115\n",
      "31     Volvo      XC70    2000    1746  117\n",
      "32      Ford     B-Max    1600    1235  104\n",
      "33       BMW         2    1600    1390  108\n",
      "34      Opel    Zafira    1600    1405  109\n",
      "35  Mercedes       SLK    2500    1395  120\n"
     ]
    }
   ],
   "source": [
    "# 6. Filter by car weight\n",
    "print(cars[cars.Weight >1200])"
   ]
  },
  {
   "cell_type": "code",
   "execution_count": 59,
   "metadata": {},
   "outputs": [
    {
     "data": {
      "image/png": "[encoded data removed]",
      "text/plain": [
       "<Figure size 432x288 with 1 Axes>"
      ]
     },
     "metadata": {
      "needs_background": "light"
     },
     "output_type": "display_data"
    }
   ],
   "source": [
    "#6. Basic plot\n",
    "cars.plot()\n",
    "plt.show()"
   ]
  },
  {
   "cell_type": "code",
   "execution_count": 60,
   "metadata": {},
   "outputs": [
    {
     "data": {
      "image/png": "[encoded data removed]",
      "text/plain": [
       "<Figure size 432x288 with 1 Axes>"
      ]
     },
     "metadata": {
      "needs_background": "light"
     },
     "output_type": "display_data"
    }
   ],
   "source": [
    "# 6. Data distribution using box plot\n",
    "cars.boxplot()\n",
    "plt.show()"
   ]
  },
  {
   "cell_type": "code",
   "execution_count": 61,
   "metadata": {},
   "outputs": [
    {
     "data": {
      "image/png": "[encoded data removed]",
      "text/plain": [
       "<Figure size 432x288 with 4 Axes>"
      ]
     },
     "metadata": {
      "needs_background": "light"
     },
     "output_type": "display_data"
    }
   ],
   "source": [
    "# 7. Histogram\n",
    "cars.hist(bins=20)\n",
    "plt.show()"
   ]
  }
 ],
 "metadata": {
  "kernelspec": {
   "display_name": "Python 3",
   "language": "python",
   "name": "python3"
  },
  "language_info": {
   "codemirror_mode": {
    "name": "ipython",
    "version": 3
   },
   "file_extension": ".py",
   "mimetype": "text/x-python",
   "name": "python",
   "nbconvert_exporter": "python",
   "pygments_lexer": "ipython3",
   "version": "3.8.1"
  }
 },
 "nbformat": 4,
 "nbformat_minor": 4
}
