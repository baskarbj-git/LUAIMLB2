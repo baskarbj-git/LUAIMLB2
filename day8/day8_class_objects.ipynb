{
 "cells": [
  {
   "cell_type": "markdown",
   "metadata": {},
   "source": [
    "Python Classes and Objects\n",
    "--"
   ]
  },
  {
   "cell_type": "markdown",
   "metadata": {},
   "source": [
    "Python is an object oriented programming language.\n",
    "\n",
    "Almost everything in Python is an object, with its properties and methods.\n",
    "\n",
    "A Class is like an object constructor, or a \"blueprint\" for creating objects."
   ]
  },
  {
   "cell_type": "markdown",
   "metadata": {},
   "source": [
    "Object is anything in the real world that has some unique characteristics.It has state and behavior.\n",
    "eg: Mouse, keyboard, chair, table, etc\n",
    "\n",
    "Class is a collection of objects. It is a logical entity that has some specific attributes and methods.\n",
    "eg: If you have a student class, then it should contain an attribute and method viz name, standard, age, etc"
   ]
  },
  {
   "cell_type": "markdown",
   "metadata": {},
   "source": [
    "Inheritance means one object acquires properties and behavior of the parent object. \n",
    "\n",
    "The new class is known as the Derived class or Child class.\n",
    "\n",
    "And from which inherited the properties is called as Base class or Parent class.\n",
    "\n",
    "Inheritance provides reusability of the code."
   ]
  },
  {
   "cell_type": "markdown",
   "metadata": {},
   "source": [
    "Polymorphism: one object many forms."
   ]
  },
  {
   "cell_type": "markdown",
   "metadata": {},
   "source": [
    "Data Abstraction/Data Hiding"
   ]
  },
  {
   "cell_type": "markdown",
   "metadata": {},
   "source": [
    "Data Encapsulation/ Data Binding"
   ]
  },
  {
   "cell_type": "raw",
   "metadata": {},
   "source": [
    "Class definition\n",
    "\n",
    "class class_name:\n",
    "    stmnt1\n",
    "    stmnt2\n",
    "    stmnt3"
   ]
  },
  {
   "cell_type": "code",
   "execution_count": 21,
   "metadata": {},
   "outputs": [
    {
     "name": "stdout",
     "output_type": "stream",
     "text": [
      "State 1:stopped\n",
      "State 2:running\n"
     ]
    }
   ],
   "source": [
    "class Game:\n",
    "    def __init__(self):\n",
    "        self.__state = 'stopped'\n",
    "        \n",
    "    def play(self):\n",
    "        self.__state = 'running'\n",
    "\n",
    "    def stop(self):\n",
    "        self.__state = 'stopped'\n",
    "\n",
    "    def pause(self):\n",
    "        self.__state = 'paused'\n",
    "        \n",
    "    def get_state(self):\n",
    "        return self.__state\n",
    "    \n",
    "s = Game()\n",
    "s.play()\n",
    "s.pause()\n",
    "s.stop()\n",
    "print('State 1:'+s.get_state())\n",
    "s.play()\n",
    "s.pause()\n",
    "s.stop()\n",
    "s.play()\n",
    "print('State 2:'+s.get_state())"
   ]
  },
  {
   "cell_type": "markdown",
   "metadata": {},
   "source": [
    "self attribute\n",
    "--\n",
    "\n",
    ">The first argument of every class method is always a reference to the current instance of the class.\n",
    "\n",
    ">By convention, this argument is always named 'self'.\n",
    "\n",
    ">It is a part of Python syntax to access members of objects.\n",
    "\n",
    ">__However, self is not a reserved keyword in Python, it is just a strong convention.__"
   ]
  },
  {
   "cell_type": "markdown",
   "metadata": {},
   "source": [
    "Private variables\n",
    "--\n",
    "\n",
    ">Private means the attributes are only available for the members of the class not outside of the class.\n",
    "\n",
    ">A private variable can only be changed within a class method, and not outside of the class.\n",
    "\n",
    ">In Python, private variables begin with double underscores __\n",
    "\n",
    ">Unlike other programming languages, Python private variables are not strict, they can be accessed outside of the class."
   ]
  },
  {
   "cell_type": "code",
   "execution_count": 22,
   "metadata": {},
   "outputs": [
    {
     "name": "stdout",
     "output_type": "stream",
     "text": [
      "2\n",
      "Hellofrom class\n"
     ]
    }
   ],
   "source": [
    "# Program to use private variables\n",
    "class HelloService:\n",
    "    y=2\n",
    "    __v='Hello' # private var\n",
    "    def show(self):\n",
    "        print(self.__v + \"from class\")\n",
    "        \n",
    "\n",
    "s = HelloService()\n",
    "print(s.y)\n",
    "s.show()\n",
    "# print(s.__v) # gives error"
   ]
  },
  {
   "cell_type": "markdown",
   "metadata": {},
   "source": [
    "Instances as arguments\n",
    "--\n",
    "\n",
    "The class instance variables are always prefixed with reserved word 'self' and typically initialized in a constructor method named __init__"
   ]
  },
  {
   "cell_type": "code",
   "execution_count": 23,
   "metadata": {},
   "outputs": [
    {
     "name": "stdout",
     "output_type": "stream",
     "text": [
      "Constructor called.\n",
      "You are in show.\n",
      "Bye from show.\n"
     ]
    }
   ],
   "source": [
    "class Test:\n",
    "    def __init__(self):\n",
    "        print(\"Constructor called.\")\n",
    "        \n",
    "    def show(self):\n",
    "        print(\"You are in show.\")\n",
    "        print(\"Bye from show.\")\n",
    "s = Test()\n",
    "\n",
    "s.show()"
   ]
  },
  {
   "cell_type": "code",
   "execution_count": 24,
   "metadata": {},
   "outputs": [
    {
     "name": "stdout",
     "output_type": "stream",
     "text": [
      "4\n",
      "5\n",
      "20\n"
     ]
    }
   ],
   "source": [
    "class xyz:\n",
    "    def __init__(self,n):\n",
    "        self.n1=n+1\n",
    "        print(n)\n",
    "        print(self.n1)\n",
    "        print(self.n1*n)\n",
    "s = xyz(4)"
   ]
  },
  {
   "cell_type": "code",
   "execution_count": 25,
   "metadata": {},
   "outputs": [
    {
     "name": "stdout",
     "output_type": "stream",
     "text": [
      "4\n",
      "5\n"
     ]
    }
   ],
   "source": [
    "class xyz:\n",
    "    def __init__(self,n):\n",
    "        self.n=n+1\n",
    "        print(n)\n",
    "        print(self.n)\n",
    "        \n",
    "s=xyz(4)"
   ]
  },
  {
   "cell_type": "markdown",
   "metadata": {},
   "source": [
    "Instances a return values\n",
    "--\n",
    "\n",
    "In Python, methods and functions can return class instances."
   ]
  },
  {
   "cell_type": "code",
   "execution_count": 26,
   "metadata": {},
   "outputs": [
    {
     "name": "stdout",
     "output_type": "stream",
     "text": [
      "4 3\n",
      "4 3\n",
      "4 3\n",
      "99 88\n"
     ]
    }
   ],
   "source": [
    "# Program to use instances as return values\n",
    "class StFactory:\n",
    "    def create_st(self):\n",
    "        return st()\n",
    "\n",
    "class st:\n",
    "    def add(self,a,b):\n",
    "        a1=a\n",
    "        b1=b\n",
    "        print(a1,b1)\n",
    "        print(a,b)\n",
    "        a=99\n",
    "        b=88\n",
    "        print(a1,b1)\n",
    "        print(a,b)\n",
    "\n",
    "s=StFactory().create_st()\n",
    "s.add(4,3)"
   ]
  },
  {
   "cell_type": "code",
   "execution_count": 27,
   "metadata": {},
   "outputs": [
    {
     "name": "stdout",
     "output_type": "stream",
     "text": [
      "4\n",
      "3\n"
     ]
    }
   ],
   "source": [
    "# Program to use instances as return values using __init__\n",
    "class st:\n",
    "    def __init__(self,a,b):\n",
    "        self.a=a\n",
    "        self.b=b\n",
    "\n",
    "s=st(4,3)\n",
    "print(s.a)\n",
    "print(s.b)"
   ]
  },
  {
   "cell_type": "code",
   "execution_count": 28,
   "metadata": {},
   "outputs": [
    {
     "name": "stdout",
     "output_type": "stream",
     "text": [
      "Highest qualification:  Phd\n",
      "Stream:  CS & Engg\n"
     ]
    }
   ],
   "source": [
    "# Program to use instances as return values using __init__\n",
    "class st:\n",
    "    def __init__(self,a,b):\n",
    "        self.a=a\n",
    "        self.b=b\n",
    "\n",
    "s=st(\"Phd\",\"CS & Engg\")\n",
    "print(\"Highest qualification: \",s.a)\n",
    "print(\"Stream: \",s.b)"
   ]
  },
  {
   "cell_type": "markdown",
   "metadata": {},
   "source": [
    "__del__()\n",
    "--\n",
    "\n",
    "It is used when you want to destroy an instance of the class which is no longer referenced.\n",
    "\n"
   ]
  },
  {
   "cell_type": "code",
   "execution_count": 29,
   "metadata": {},
   "outputs": [
    {
     "ename": "TypeError",
     "evalue": "abc() takes no arguments",
     "output_type": "error",
     "traceback": [
      "\u001b[1;31m---------------------------------------------------------------------------\u001b[0m",
      "\u001b[1;31mTypeError\u001b[0m                                 Traceback (most recent call last)",
      "\u001b[1;32m<ipython-input-29-a52cf68b4eb0>\u001b[0m in \u001b[0;36m<module>\u001b[1;34m\u001b[0m\n\u001b[0;32m      6\u001b[0m         \u001b[0mprint\u001b[0m\u001b[1;33m(\u001b[0m\u001b[1;34m\"Object deleted\"\u001b[0m\u001b[1;33m)\u001b[0m\u001b[1;33m\u001b[0m\u001b[1;33m\u001b[0m\u001b[0m\n\u001b[0;32m      7\u001b[0m \u001b[1;33m\u001b[0m\u001b[0m\n\u001b[1;32m----> 8\u001b[1;33m \u001b[0ms1\u001b[0m\u001b[1;33m=\u001b[0m\u001b[0mabc\u001b[0m\u001b[1;33m(\u001b[0m\u001b[1;34m\"Baskar\"\u001b[0m\u001b[1;33m)\u001b[0m\u001b[1;33m\u001b[0m\u001b[1;33m\u001b[0m\u001b[0m\n\u001b[0m\u001b[0;32m      9\u001b[0m \u001b[0ms2\u001b[0m\u001b[1;33m=\u001b[0m\u001b[0mabc\u001b[0m\u001b[1;33m(\u001b[0m\u001b[1;34m\"Python\"\u001b[0m\u001b[1;33m)\u001b[0m\u001b[1;33m\u001b[0m\u001b[1;33m\u001b[0m\u001b[0m\n",
      "\u001b[1;31mTypeError\u001b[0m: abc() takes no arguments"
     ]
    }
   ],
   "source": [
    "# Program to delete object of a class.\n",
    "class Hello:\n",
    "    def __init__(self,n): #Parameterized constructor\n",
    "        print(\"Hello \",n)\n",
    "    def __del__(self):\n",
    "        print(\"Object deleted\")\n",
    "\n",
    "s1=abc(\"Baskar\")\n",
    "s2=abc(\"Python\")        "
   ]
  },
  {
   "cell_type": "markdown",
   "metadata": {},
   "source": [
    "Data Encapsulation\n",
    "--\n",
    "\n",
    "It is used to restrict access to methods and variables. \n",
    "\n",
    "This can prevent the data to be modified by accident and is know as encapsulation."
   ]
  },
  {
   "cell_type": "code",
   "execution_count": 30,
   "metadata": {},
   "outputs": [
    {
     "name": "stdout",
     "output_type": "stream",
     "text": [
      "Hello 0\n",
      "None\n",
      "Hello 0\n",
      "None\n"
     ]
    },
    {
     "ename": "AttributeError",
     "evalue": "'st' object has no attribute '__show1'",
     "output_type": "error",
     "traceback": [
      "\u001b[1;31m---------------------------------------------------------------------------\u001b[0m",
      "\u001b[1;31mAttributeError\u001b[0m                            Traceback (most recent call last)",
      "\u001b[1;32m<ipython-input-30-1064eda064a8>\u001b[0m in \u001b[0;36m<module>\u001b[1;34m\u001b[0m\n\u001b[0;32m     11\u001b[0m \u001b[0mv\u001b[0m\u001b[1;33m.\u001b[0m\u001b[0mshow\u001b[0m\u001b[1;33m(\u001b[0m\u001b[1;33m)\u001b[0m\u001b[1;33m\u001b[0m\u001b[1;33m\u001b[0m\u001b[0m\n\u001b[0;32m     12\u001b[0m \u001b[0mv\u001b[0m\u001b[1;33m.\u001b[0m\u001b[0mshow\u001b[0m\u001b[1;33m(\u001b[0m\u001b[1;33m)\u001b[0m\u001b[1;33m\u001b[0m\u001b[1;33m\u001b[0m\u001b[0m\n\u001b[1;32m---> 13\u001b[1;33m \u001b[0mv\u001b[0m\u001b[1;33m.\u001b[0m\u001b[0m__show1\u001b[0m\u001b[1;33m(\u001b[0m\u001b[1;33m)\u001b[0m \u001b[1;31m# not accessible from object v bcz of private method\u001b[0m\u001b[1;33m\u001b[0m\u001b[1;33m\u001b[0m\u001b[0m\n\u001b[0m\u001b[0;32m     14\u001b[0m \u001b[0mprint\u001b[0m\u001b[1;33m(\u001b[0m\u001b[0mv\u001b[0m\u001b[1;33m.\u001b[0m\u001b[0m__hidden\u001b[0m\u001b[1;33m)\u001b[0m \u001b[1;31m# not accessible from object v bcz of private\u001b[0m\u001b[1;33m\u001b[0m\u001b[1;33m\u001b[0m\u001b[0m\n",
      "\u001b[1;31mAttributeError\u001b[0m: 'st' object has no attribute '__show1'"
     ]
    }
   ],
   "source": [
    "# Program to use Data Encapsulation\n",
    "class st:\n",
    "    def __init__(self):\n",
    "        self.__hidden=0\n",
    "    def show(self):\n",
    "        print(self.__show1())\n",
    "    def __show1(self):\n",
    "        print(\"Hello \"+str(self.__hidden))\n",
    "        \n",
    "v=st()\n",
    "v.show()\n",
    "v.show()\n",
    "v.__show1() # not accessible from object v bcz of private method\n",
    "print(v.__hidden) # not accessible from object v bcz of private"
   ]
  },
  {
   "cell_type": "raw",
   "metadata": {},
   "source": [
    "Data Encapsulation prevents the data to be modified by accident and not intentionally."
   ]
  },
  {
   "cell_type": "markdown",
   "metadata": {},
   "source": [
    "Data Abstraction:\n",
    "--\n",
    "Sometimes we want that objects attributes may or may not be visible outside the class definition.\n",
    "\n",
    "Here, we need to name attributes with double underscore prefix and those attributes then are not directly visible to the outsiders."
   ]
  },
  {
   "cell_type": "code",
   "execution_count": 31,
   "metadata": {},
   "outputs": [
    {
     "name": "stdout",
     "output_type": "stream",
     "text": [
      "1\n",
      "2\n",
      "3\n"
     ]
    },
    {
     "ename": "AttributeError",
     "evalue": "'abc' object has no attribute '__p'",
     "output_type": "error",
     "traceback": [
      "\u001b[1;31m---------------------------------------------------------------------------\u001b[0m",
      "\u001b[1;31mAttributeError\u001b[0m                            Traceback (most recent call last)",
      "\u001b[1;32m<ipython-input-31-6bb9dcc2e5d1>\u001b[0m in \u001b[0;36m<module>\u001b[1;34m\u001b[0m\n\u001b[0;32m     10\u001b[0m \u001b[0mv\u001b[0m\u001b[1;33m.\u001b[0m\u001b[0mshow\u001b[0m\u001b[1;33m(\u001b[0m\u001b[1;33m)\u001b[0m\u001b[1;33m\u001b[0m\u001b[1;33m\u001b[0m\u001b[0m\n\u001b[0;32m     11\u001b[0m \u001b[0mv\u001b[0m\u001b[1;33m.\u001b[0m\u001b[0mshow\u001b[0m\u001b[1;33m(\u001b[0m\u001b[1;33m)\u001b[0m\u001b[1;33m\u001b[0m\u001b[1;33m\u001b[0m\u001b[0m\n\u001b[1;32m---> 12\u001b[1;33m \u001b[0mprint\u001b[0m\u001b[1;33m(\u001b[0m\u001b[0mv\u001b[0m\u001b[1;33m.\u001b[0m\u001b[0m__p\u001b[0m\u001b[1;33m)\u001b[0m \u001b[1;31m# __p is hidden for outside class so error occurs\u001b[0m\u001b[1;33m\u001b[0m\u001b[1;33m\u001b[0m\u001b[0m\n\u001b[0m",
      "\u001b[1;31mAttributeError\u001b[0m: 'abc' object has no attribute '__p'"
     ]
    }
   ],
   "source": [
    "# Program to use Data Hiding\n",
    "class abc:\n",
    "    __p=0\n",
    "    def show(self):\n",
    "        self.__p=self.__p+1\n",
    "        print(self.__p)\n",
    "\n",
    "v=abc()\n",
    "v.show()\n",
    "v.show()\n",
    "v.show()\n",
    "print(v.__p) # __p is hidden for outside class so error occurs"
   ]
  },
  {
   "cell_type": "markdown",
   "metadata": {},
   "source": [
    "Polymorphism\n",
    "--"
   ]
  },
  {
   "cell_type": "code",
   "execution_count": 32,
   "metadata": {},
   "outputs": [
    {
     "name": "stdout",
     "output_type": "stream",
     "text": [
      "s=  200\n",
      "s=  Baskar\n",
      "s=  2.546\n",
      "s=  (2+7j)\n",
      "s=  True\n"
     ]
    }
   ],
   "source": [
    "# Program to use Polymorphism\n",
    "def show(s):\n",
    "    print(\"s= \",s)\n",
    "\n",
    "show(200)\n",
    "show(\"Baskar\")\n",
    "show(2.546)\n",
    "show(2+7j)\n",
    "show(True)"
   ]
  },
  {
   "cell_type": "code",
   "execution_count": 33,
   "metadata": {},
   "outputs": [
    {
     "name": "stdout",
     "output_type": "stream",
     "text": [
      "square\n",
      "circle\n"
     ]
    }
   ],
   "source": [
    "class Shape:\n",
    "    def __init__(self):\n",
    "        self.__name='shape'\n",
    "    \n",
    "    def whoami(self):\n",
    "        return self.__name\n",
    "    \n",
    "class Circle(Shape):\n",
    "    def __init__(self):\n",
    "        self.__name='circle'\n",
    "        super()\n",
    "    \n",
    "    def whoami(self):\n",
    "        return self.__name\n",
    "\n",
    "class Square(Shape):\n",
    "    def __init__(self):\n",
    "        self.__name='square'\n",
    "        super()\n",
    "        \n",
    "    def whoami(self):\n",
    "        return self.__name\n",
    "    \n",
    "def tell_whoami(shape):\n",
    "    print(shape.whoami())\n",
    "    \n",
    "tell_whoami(Square())\n",
    "tell_whoami(Circle())\n"
   ]
  },
  {
   "cell_type": "code",
   "execution_count": null,
   "metadata": {},
   "outputs": [],
   "source": []
  }
 ],
 "metadata": {
  "kernelspec": {
   "display_name": "Python 3",
   "language": "python",
   "name": "python3"
  },
  "language_info": {
   "codemirror_mode": {
    "name": "ipython",
    "version": 3
   },
   "file_extension": ".py",
   "mimetype": "text/x-python",
   "name": "python",
   "nbconvert_exporter": "python",
   "pygments_lexer": "ipython3",
   "version": "3.8.1"
  },
  "toc": {
   "base_numbering": 1,
   "nav_menu": {},
   "number_sections": true,
   "sideBar": true,
   "skip_h1_title": false,
   "title_cell": "Table of Contents",
   "title_sidebar": "Contents",
   "toc_cell": false,
   "toc_position": {},
   "toc_section_display": true,
   "toc_window_display": false
  }
 },
 "nbformat": 4,
 "nbformat_minor": 2
}
