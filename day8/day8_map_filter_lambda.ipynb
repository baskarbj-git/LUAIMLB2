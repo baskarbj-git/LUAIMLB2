{
 "cells": [
  {
   "cell_type": "markdown",
   "metadata": {},
   "source": [
    "__map(), filter() and reduce() are built-in functions of Python.__\n",
    "\n",
    "These functions enable the functional programming aspect of Python.\n",
    "\n",
    "In Functional Programming, the arguments passed are the only factors that decide upon the output.\n",
    "\n",
    "These functions can take any other function as a parameter and can be supplied to other functions as parameters as well."
   ]
  },
  {
   "cell_type": "markdown",
   "metadata": {},
   "source": [
    "map()-\n",
    "--\n",
    "\n",
    "It applies the given function to all iterables and returns a new list.\n",
    "\n",
    "SYNTAX:\n",
    "\n",
    "map(function, iterables)"
   ]
  },
  {
   "cell_type": "code",
   "execution_count": 11,
   "metadata": {},
   "outputs": [
    {
     "ename": "SyntaxError",
     "evalue": "invalid syntax (<ipython-input-11-77a38da60fb2>, line 4)",
     "output_type": "error",
     "traceback": [
      "\u001b[1;36m  File \u001b[1;32m\"<ipython-input-11-77a38da60fb2>\"\u001b[1;36m, line \u001b[1;32m4\u001b[0m\n\u001b[1;33m    x= to_upper('machine learning')print(x)\u001b[0m\n\u001b[1;37m                                   ^\u001b[0m\n\u001b[1;31mSyntaxError\u001b[0m\u001b[1;31m:\u001b[0m invalid syntax\n"
     ]
    }
   ],
   "source": [
    "# map(function, iterables)\n",
    "def to_upper(a):\n",
    "    return a.upper()\n",
    "x= to_upper('machine learning')print(x)"
   ]
  },
  {
   "cell_type": "code",
   "execution_count": 12,
   "metadata": {},
   "outputs": [
    {
     "name": "stdout",
     "output_type": "stream",
     "text": [
      "<map object at 0x086058C8>\n",
      "<class 'map'>\n",
      "['MACHINE', 'LEARNING', 'IS', 'FUN']\n"
     ]
    }
   ],
   "source": [
    "# map(function, iterables)\n",
    "def to_upper(a):\n",
    "    return a.upper()\n",
    "# your code goes here2\n",
    "x = map(to_upper,['machine','learning','is','fun'])\n",
    "print(x)\n",
    "print(type(x))\n",
    "print(list(x))\n",
    "# print(tuple(x))\n",
    "# print(set(x))"
   ]
  },
  {
   "cell_type": "code",
   "execution_count": 13,
   "metadata": {},
   "outputs": [
    {
     "name": "stdout",
     "output_type": "stream",
     "text": [
      "[3, 3, 3, 3]\n"
     ]
    }
   ],
   "source": [
    "# map(function, iterables)\n",
    "def add(a,b,c):\n",
    "    return a+b+c\n",
    "# your code goes here3\n",
    "x = map(add, [1,1,1,1],[1,1,1,1],[1,1,1,1])\n",
    "print(list(x))"
   ]
  },
  {
   "cell_type": "code",
   "execution_count": 14,
   "metadata": {},
   "outputs": [
    {
     "name": "stdout",
     "output_type": "stream",
     "text": [
      "[3, 4, 5, 6]\n"
     ]
    }
   ],
   "source": [
    "# map(function, iterables)\n",
    "def add(a,b):\n",
    "    return a+b\n",
    "# your code goes here3\n",
    "print(list(map(add, [1,2,3,4], [2,2,2,2] )))"
   ]
  },
  {
   "cell_type": "code",
   "execution_count": 15,
   "metadata": {},
   "outputs": [
    {
     "name": "stdout",
     "output_type": "stream",
     "text": [
      "[0, 2, 4, 6, 8]\n"
     ]
    }
   ],
   "source": [
    "# map(function, iterables)\n",
    "def add(a,b):\n",
    "    return a*b\n",
    "# your code goes here3\n",
    "print(list(map(add, [ i for i in range(5)], (2,2,2,2,2) )))"
   ]
  },
  {
   "cell_type": "markdown",
   "metadata": {},
   "source": [
    "Lambda functions\n",
    "--\n",
    "Everything in the world of programming requires a name, but there still there are a few ananymous mysteries. Lambda functions or Lambda expressions are one of these kind of entities that are nameless.\n",
    "\n",
    "They are the functions that do not have any name.\n",
    "\n",
    "We also call them as anonymous or nameless functions.\n",
    "\n",
    "They are generally provided as input to other functions.\n",
    "\n",
    "Lambda functions are single line functions. Therefore we have to provide the expression along with the function itself.\n",
    "\n",
    "__Note: 'lambda' is not a name, it s a keyword.__\n",
    "\n",
    "__Use of lambda functions:__\n",
    "\n",
    ">1. One time use: They are used in places where we know that the function will be required just once. Therefore, lambda functions are also called as throw away functions.\n",
    "\n",
    ">2. Input/Output to other functions: They are also passed as inputs or returned as outputs of other higher-order functions.\n",
    "\n",
    ">3. Reduce Code size: The body of lambda functions is written in a single line.\n",
    "\n",
    "__SYNTAX:__\n",
    "\n",
    "lambda arguments: expression"
   ]
  },
  {
   "cell_type": "code",
   "execution_count": 16,
   "metadata": {},
   "outputs": [
    {
     "data": {
      "text/plain": [
       "6"
      ]
     },
     "execution_count": 16,
     "metadata": {},
     "output_type": "execute_result"
    }
   ],
   "source": [
    "# without lambda\n",
    "def add(a):\n",
    "    return a+a\n",
    "\n",
    "add(3)"
   ]
  },
  {
   "cell_type": "code",
   "execution_count": 17,
   "metadata": {},
   "outputs": [
    {
     "data": {
      "text/plain": [
       "9"
      ]
     },
     "execution_count": 17,
     "metadata": {},
     "output_type": "execute_result"
    }
   ],
   "source": [
    "# with lambda\n",
    "x = lambda a,b: a+b\n",
    "x(4,5)"
   ]
  },
  {
   "cell_type": "code",
   "execution_count": 18,
   "metadata": {},
   "outputs": [
    {
     "name": "stdout",
     "output_type": "stream",
     "text": [
      "<function sqr.<locals>.<lambda> at 0x0371E340>\n",
      "1024\n"
     ]
    }
   ],
   "source": [
    "# lambda within user defined functions\n",
    "def sqr(x):\n",
    "    return lambda y: x ** y\n",
    "t = sqr(4)\n",
    "print(t)\n",
    "print(t(5))"
   ]
  },
  {
   "cell_type": "code",
   "execution_count": 20,
   "metadata": {},
   "outputs": [
    {
     "name": "stdout",
     "output_type": "stream",
     "text": [
      "Hi from a\n"
     ]
    }
   ],
   "source": [
    "def hi(a):\n",
    "    print(\"Hi from \"+a)\n",
    "hi('a')"
   ]
  },
  {
   "cell_type": "code",
   "execution_count": 21,
   "metadata": {},
   "outputs": [
    {
     "data": {
      "text/plain": [
       "49"
      ]
     },
     "execution_count": 21,
     "metadata": {},
     "output_type": "execute_result"
    }
   ],
   "source": [
    "# Solving Algebraic expressions using lambda\n",
    "# LINEAR EQUATIONS\n",
    "# Snippet 1: (a+b)^2\n",
    "x = lambda a,b: a*a + b*b + 2*a*b\n",
    "x(3,4)"
   ]
  },
  {
   "cell_type": "code",
   "execution_count": 22,
   "metadata": {},
   "outputs": [
    {
     "data": {
      "text/plain": [
       "1"
      ]
     },
     "execution_count": 22,
     "metadata": {},
     "output_type": "execute_result"
    }
   ],
   "source": [
    "# Solving Algebraic expressions using lambda\n",
    "# LINEAR EQUATIONS\n",
    "# Snippet 2: (a-b)^2\n",
    "z = lambda a,b: a*a + b*b - 2*a*b\n",
    "z(1,2)"
   ]
  },
  {
   "cell_type": "code",
   "execution_count": 38,
   "metadata": {},
   "outputs": [
    {
     "name": "stdout",
     "output_type": "stream",
     "text": [
      "[1, 8, 27, 64]\n"
     ]
    }
   ],
   "source": [
    "# Use lambda functions along with map function\n",
    "l = [1,2,3,4]\n",
    "x = map(lambda x: x**3,l)\n",
    "print(list(x))"
   ]
  },
  {
   "cell_type": "code",
   "execution_count": 40,
   "metadata": {},
   "outputs": [
    {
     "name": "stdout",
     "output_type": "stream",
     "text": [
      "Hi from ml\n"
     ]
    }
   ],
   "source": [
    "hi('ml')"
   ]
  },
  {
   "cell_type": "code",
   "execution_count": 42,
   "metadata": {},
   "outputs": [
    {
     "name": "stdout",
     "output_type": "stream",
     "text": [
      "[1, 8, 27, 64]\n"
     ]
    }
   ],
   "source": [
    "# Lets further shorten the above code\n",
    "l = [1,2,3,4]\n",
    "print(list(map(lambda x: x**3,l)))\n"
   ]
  },
  {
   "cell_type": "markdown",
   "metadata": {},
   "source": [
    "filter()\n",
    "--\n",
    "\n",
    "It is used to filter the given iterables with the help of another function passed as an argument to test all the elements to be True or False.\n",
    "\n",
    "SYNTAX:\n",
    "\n",
    "filter(function, iterables)"
   ]
  },
  {
   "cell_type": "code",
   "execution_count": 37,
   "metadata": {},
   "outputs": [
    {
     "name": "stdout",
     "output_type": "stream",
     "text": [
      "<filter object at 0x08615DA8>\n",
      "<class 'filter'>\n",
      "[1, 2, 4, 5]\n"
     ]
    }
   ],
   "source": [
    "# filter(function, iterables)\n",
    "def sqr(a):\n",
    "    if a%3==0:\n",
    "        return False\n",
    "    else:\n",
    "        return True\n",
    "# your code goes here1.2\n",
    "x = filter( sqr, [1,2,3,4,5,6] )\n",
    "print(x)\n",
    "print(type(x))\n",
    "print(list(x))"
   ]
  },
  {
   "cell_type": "code",
   "execution_count": 32,
   "metadata": {},
   "outputs": [
    {
     "name": "stdout",
     "output_type": "stream",
     "text": [
      "[3]\n"
     ]
    }
   ],
   "source": [
    "l = [1,2,3,4]\n",
    "# your code goes here1.3\n",
    "x = filter( lambda x: x%3==0 ,l )\n",
    "print(list(x))"
   ]
  },
  {
   "cell_type": "code",
   "execution_count": 31,
   "metadata": {},
   "outputs": [
    {
     "name": "stdout",
     "output_type": "stream",
     "text": [
      "[2, 4]\n"
     ]
    }
   ],
   "source": [
    "l = [1,2,3,4]\n",
    "print(list(filter( lambda x: x%2==0 ,l )))"
   ]
  },
  {
   "cell_type": "markdown",
   "metadata": {},
   "source": [
    "reduce()\n",
    "--\n",
    "\n",
    "It applies some other function to a list that are passed as a parameter to it and finally return a single value.\n",
    "\n",
    "SYNTAX:\n",
    "\n",
    "reduce(function, iterables)"
   ]
  },
  {
   "cell_type": "code",
   "execution_count": 24,
   "metadata": {},
   "outputs": [
    {
     "name": "stdout",
     "output_type": "stream",
     "text": [
      "10\n"
     ]
    }
   ],
   "source": [
    "# reduce(function, iterables)\n",
    "from functools import reduce # its required here\n",
    "def add(a,b):\n",
    "    return a+b\n",
    "# your code goes here1+5\n",
    "x = reduce(add, [0,1,2,3,4])\n",
    "print(x)"
   ]
  },
  {
   "cell_type": "code",
   "execution_count": 26,
   "metadata": {},
   "outputs": [
    {
     "data": {
      "text/plain": [
       "24"
      ]
     },
     "execution_count": 26,
     "metadata": {},
     "output_type": "execute_result"
    }
   ],
   "source": [
    "# lets use reduce with lambda() now\n",
    "reduce( lambda x,y: x*y , [1,2,3,4] )"
   ]
  },
  {
   "cell_type": "code",
   "execution_count": 27,
   "metadata": {},
   "outputs": [
    {
     "name": "stdout",
     "output_type": "stream",
     "text": [
      "<map object at 0x086150A0>\n",
      "[4, 8]\n"
     ]
    }
   ],
   "source": [
    "# filter within map\n",
    "x = map(lambda x: x+x,  filter(lambda x: x%2==0, [1,2,3,4]))\n",
    "print(x)\n",
    "print(list(x))\n",
    "# print(tuple(x))"
   ]
  },
  {
   "cell_type": "code",
   "execution_count": 28,
   "metadata": {},
   "outputs": [
    {
     "name": "stdout",
     "output_type": "stream",
     "text": [
      "<filter object at 0x0371AD78>\n",
      "['Ball', 'Apple']\n"
     ]
    }
   ],
   "source": [
    "# map within filter\n",
    "x = filter(lambda x: len(x)>=4,  map(lambda x: x.capitalize(), ['ball','apple','cat','dog']))\n",
    "# try this\n",
    "# x = filter(lambda x: x>=3,  map(lambda x: x+3., [1,2,3,4]))\n",
    "print(x)\n",
    "print(list(x))\n",
    "# print(tuple(x))"
   ]
  },
  {
   "cell_type": "code",
   "execution_count": 30,
   "metadata": {},
   "outputs": [
    {
     "name": "stdout",
     "output_type": "stream",
     "text": [
      "GreenApple\n"
     ]
    }
   ],
   "source": [
    "# map and filter within reduce\n",
    "x = reduce(lambda x,y: x+y,  map(lambda x: x.capitalize(), filter(lambda x: len(x)>=4, ('green','apple','cat','dog'))))\n",
    "print(x)"
   ]
  }
 ],
 "metadata": {
  "kernelspec": {
   "display_name": "Python 3",
   "language": "python",
   "name": "python3"
  },
  "language_info": {
   "codemirror_mode": {
    "name": "ipython",
    "version": 3
   },
   "file_extension": ".py",
   "mimetype": "text/x-python",
   "name": "python",
   "nbconvert_exporter": "python",
   "pygments_lexer": "ipython3",
   "version": "3.8.1"
  },
  "toc": {
   "base_numbering": 1,
   "nav_menu": {},
   "number_sections": true,
   "sideBar": true,
   "skip_h1_title": false,
   "title_cell": "Table of Contents",
   "title_sidebar": "Contents",
   "toc_cell": false,
   "toc_position": {},
   "toc_section_display": true,
   "toc_window_display": false
  }
 },
 "nbformat": 4,
 "nbformat_minor": 2
}
