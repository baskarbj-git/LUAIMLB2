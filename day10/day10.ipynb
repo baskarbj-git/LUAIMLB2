{
 "cells": [
  {
   "cell_type": "markdown",
   "metadata": {},
   "source": [
    "# Question 1:\n",
    "Create an element-wise comparison (greater, greater_equal, less and less_equal) of two given arrays"
   ]
  },
  {
   "cell_type": "code",
   "execution_count": 4,
   "metadata": {},
   "outputs": [
    {
     "data": {
      "text/plain": [
       "array([False,  True, False,  True])"
      ]
     },
     "execution_count": 4,
     "metadata": {},
     "output_type": "execute_result"
    }
   ],
   "source": [
    "import numpy as np\n",
    "\n",
    "a=np.array([1,2,3,4])\n",
    "b=np.array([2,1,4,3])\n",
    "c=a>b\n",
    "c"
   ]
  },
  {
   "cell_type": "markdown",
   "metadata": {},
   "source": [
    "# Question 2:\n",
    "Write a NumPy program to create an array of 10 zeros,10 ones, 10 fives"
   ]
  },
  {
   "cell_type": "code",
   "execution_count": 105,
   "metadata": {},
   "outputs": [
    {
     "name": "stdout",
     "output_type": "stream",
     "text": [
      "[0 0 0 0 0 0 0 0 0 0]\n",
      "[1 1 1 1 1 1 1 1 1 1]\n",
      "[5 5 5 5 5 5 5 5 5 5]\n"
     ]
    }
   ],
   "source": [
    "array_zeros = np.zeros((10),dtype=np.ushort)\n",
    "array_ones = np.ones((10),dtype=np.ushort)\n",
    "array_fives = np.full((10),5, dtype=np.ushort)\n",
    "print(array_zeros)\n",
    "print(array_ones)\n",
    "print(array_fives)"
   ]
  },
  {
   "cell_type": "markdown",
   "metadata": {},
   "source": [
    "# Question 3:\n",
    "Write a NumPy program to compute sum of all elements, sum of each column and sum of each row of a\n",
    "given array"
   ]
  },
  {
   "cell_type": "code",
   "execution_count": 106,
   "metadata": {},
   "outputs": [
    {
     "name": "stdout",
     "output_type": "stream",
     "text": [
      "[[5 5 6]\n",
      " [7 6 6]\n",
      " [6 6 6]]\n",
      "Sum of all elements:  53\n",
      "Sum row-wise:  [18 17 18]\n",
      "Sum column-wise:  [16 19 18]\n"
     ]
    }
   ],
   "source": [
    "a=np.full((3,3),6,dtype=np.ushort)\n",
    "a[0,0:2]=5\n",
    "a[1:2,0]=7\n",
    "print(a)\n",
    "print(\"Sum of all elements: \",a.sum())\n",
    "print(\"Sum row-wise: \",a.sum(axis=0))\n",
    "print(\"Sum column-wise: \",a.sum(axis=1))"
   ]
  },
  {
   "cell_type": "markdown",
   "metadata": {},
   "source": [
    "# Question 4:\n",
    "Write a NumPy program to add, subtract, multiply, divide arguments element-wise."
   ]
  },
  {
   "cell_type": "code",
   "execution_count": 107,
   "metadata": {},
   "outputs": [
    {
     "name": "stdout",
     "output_type": "stream",
     "text": [
      "a=\n",
      " [[5 5 6]\n",
      " [7 6 6]\n",
      " [6 6 6]] \n",
      " b=\n",
      " [[5 7 6]\n",
      " [5 6 6]\n",
      " [6 6 6]]\n",
      "\n",
      "\n",
      "Addition: \n",
      "[[10 12 12]\n",
      " [12 12 12]\n",
      " [12 12 12]]\n",
      "\n",
      "Subtraction: \n",
      "[[ 0 -2  0]\n",
      " [ 2  0  0]\n",
      " [ 0  0  0]]\n",
      "\n",
      "Multiplication: \n",
      "[[25 35 36]\n",
      " [35 36 36]\n",
      " [36 36 36]]\n",
      "\n",
      "Division: \n",
      "[[1.         0.71428571 1.        ]\n",
      " [1.4        1.         1.        ]\n",
      " [1.         1.         1.        ]]\n"
     ]
    }
   ],
   "source": [
    "a=np.full((3,3),6,dtype=np.short)  #1st array\n",
    "a[0,0:2]=5\n",
    "a[1:2,0]=7\n",
    "\n",
    "b=a.transpose()  #2nd array is populated as transpose of 1st array\n",
    "\n",
    "print('a=\\n',a,'\\n','b=\\n',b)\n",
    "print('\\n')\n",
    "print(\"Addition: \\n\"+str(a+b))\n",
    "print(\"\\nSubtraction: \\n\"+ str(a-b))\n",
    "print(\"\\nMultiplication: \\n\"+str(a*b))\n",
    "print(\"\\nDivision: \\n\"+str(a/b))"
   ]
  },
  {
   "cell_type": "markdown",
   "metadata": {},
   "source": [
    "# Question 5:\n",
    "Write a NumPy program to compute the trigonometric sine, cosine and tangent array of angles given in\n",
    "degree."
   ]
  },
  {
   "cell_type": "code",
   "execution_count": 110,
   "metadata": {},
   "outputs": [
    {
     "name": "stdout",
     "output_type": "stream",
     "text": [
      "Sine:\n",
      " [[0.84147096 0.84147096 0.84147096]\n",
      " [0.84147096 0.84147096 0.84147096]\n",
      " [0.84147096 0.84147096 0.84147096]]\n",
      "\n",
      "Cosine:\n",
      " [[0.5403023 0.5403023 0.5403023]\n",
      " [0.5403023 0.5403023 0.5403023]\n",
      " [0.5403023 0.5403023 0.5403023]]\n",
      "\n",
      "Tangent:\n",
      " [[1.5574077 1.5574077 1.5574077]\n",
      " [1.5574077 1.5574077 1.5574077]\n",
      " [1.5574077 1.5574077 1.5574077]]\n"
     ]
    }
   ],
   "source": [
    "import numpy as np\n",
    "import math\n",
    "\n",
    "angle_degrees = 90 #90degrees\n",
    "\n",
    "to_radian = lambda deg: deg*(math.pi)/180\n",
    "\n",
    "\n",
    "a=np.full((3,3),to_radian(angle_degrees),dtype=np.short) #convert to radians as reqd for sin, cos, tan\n",
    "\n",
    "print(\"Sine:\\n\",np.sin(a))\n",
    "print(\"\\nCosine:\\n\",np.cos(a))\n",
    "print(\"\\nTangent:\\n\",np.tan(a))\n"
   ]
  },
  {
   "cell_type": "markdown",
   "metadata": {},
   "source": [
    "# Question 6:\n",
    "Write a Pandas program to create and display a DataFrame from a specified dictionary data which has the\n",
    "index labels"
   ]
  },
  {
   "cell_type": "code",
   "execution_count": 113,
   "metadata": {},
   "outputs": [
    {
     "name": "stdout",
     "output_type": "stream",
     "text": [
      "Index Labels: Index(['a', 'b', 'c'], dtype='object')\n"
     ]
    }
   ],
   "source": [
    "import pandas as pd\n",
    "#with Index labels a,b,c\n",
    "data_dict = {'name':pd.Series({'a':'ankit','b':'baskar','c':'cow'}), 'age':pd.Series({'a':1,'b':2,'c':3}),'score':pd.Series({'a':70,'b':99,'c':80})}\n",
    "df = pd.DataFrame(data_dict)\n",
    "print('Index Labels:',df.index)"
   ]
  },
  {
   "cell_type": "markdown",
   "metadata": {},
   "source": [
    "# Question 7:\n",
    "Write a Pandas program to select the 'name' and 'score' columns from the following DataFrame"
   ]
  },
  {
   "cell_type": "code",
   "execution_count": 114,
   "metadata": {},
   "outputs": [
    {
     "data": {
      "text/html": [
       "<div>\n",
       "<style scoped>\n",
       "    .dataframe tbody tr th:only-of-type {\n",
       "        vertical-align: middle;\n",
       "    }\n",
       "\n",
       "    .dataframe tbody tr th {\n",
       "        vertical-align: top;\n",
       "    }\n",
       "\n",
       "    .dataframe thead th {\n",
       "        text-align: right;\n",
       "    }\n",
       "</style>\n",
       "<table border=\"1\" class=\"dataframe\">\n",
       "  <thead>\n",
       "    <tr style=\"text-align: right;\">\n",
       "      <th></th>\n",
       "      <th>name</th>\n",
       "      <th>score</th>\n",
       "    </tr>\n",
       "  </thead>\n",
       "  <tbody>\n",
       "    <tr>\n",
       "      <th>a</th>\n",
       "      <td>ankit</td>\n",
       "      <td>70</td>\n",
       "    </tr>\n",
       "    <tr>\n",
       "      <th>b</th>\n",
       "      <td>baskar</td>\n",
       "      <td>99</td>\n",
       "    </tr>\n",
       "    <tr>\n",
       "      <th>c</th>\n",
       "      <td>cow</td>\n",
       "      <td>80</td>\n",
       "    </tr>\n",
       "  </tbody>\n",
       "</table>\n",
       "</div>"
      ],
      "text/plain": [
       "     name  score\n",
       "a   ankit     70\n",
       "b  baskar     99\n",
       "c     cow     80"
      ]
     },
     "execution_count": 114,
     "metadata": {},
     "output_type": "execute_result"
    }
   ],
   "source": [
    "import pandas as pd\n",
    "#Index labels a,b,c\n",
    "df = pd.DataFrame({'name':pd.Series({'a':'ankit','b':'baskar','c':'cow'}), 'age':pd.Series({'a':1,'b':2,'c':3}), 'score':pd.Series({'a':70,'b':99,'c':80})})\n",
    "df[['name','score']]"
   ]
  },
  {
   "cell_type": "markdown",
   "metadata": {},
   "source": [
    "# Question 8:\n",
    "Write a Pandas program to join the two given dataframes along rows and assign all data."
   ]
  },
  {
   "cell_type": "code",
   "execution_count": 146,
   "metadata": {},
   "outputs": [
    {
     "data": {
      "text/html": [
       "<div>\n",
       "<style scoped>\n",
       "    .dataframe tbody tr th:only-of-type {\n",
       "        vertical-align: middle;\n",
       "    }\n",
       "\n",
       "    .dataframe tbody tr th {\n",
       "        vertical-align: top;\n",
       "    }\n",
       "\n",
       "    .dataframe thead th {\n",
       "        text-align: right;\n",
       "    }\n",
       "</style>\n",
       "<table border=\"1\" class=\"dataframe\">\n",
       "  <thead>\n",
       "    <tr style=\"text-align: right;\">\n",
       "      <th></th>\n",
       "      <th>name</th>\n",
       "      <th>age</th>\n",
       "      <th>score</th>\n",
       "    </tr>\n",
       "  </thead>\n",
       "  <tbody>\n",
       "    <tr>\n",
       "      <th>a</th>\n",
       "      <td>ankit</td>\n",
       "      <td>1</td>\n",
       "      <td>70</td>\n",
       "    </tr>\n",
       "    <tr>\n",
       "      <th>b</th>\n",
       "      <td>baskar</td>\n",
       "      <td>2</td>\n",
       "      <td>99</td>\n",
       "    </tr>\n",
       "    <tr>\n",
       "      <th>c</th>\n",
       "      <td>cow</td>\n",
       "      <td>3</td>\n",
       "      <td>80</td>\n",
       "    </tr>\n",
       "    <tr>\n",
       "      <th>d</th>\n",
       "      <td>deepak</td>\n",
       "      <td>11</td>\n",
       "      <td>73</td>\n",
       "    </tr>\n",
       "    <tr>\n",
       "      <th>e</th>\n",
       "      <td>eric</td>\n",
       "      <td>12</td>\n",
       "      <td>93</td>\n",
       "    </tr>\n",
       "    <tr>\n",
       "      <th>f</th>\n",
       "      <td>fani</td>\n",
       "      <td>13</td>\n",
       "      <td>84</td>\n",
       "    </tr>\n",
       "  </tbody>\n",
       "</table>\n",
       "</div>"
      ],
      "text/plain": [
       "     name  age  score\n",
       "a   ankit    1     70\n",
       "b  baskar    2     99\n",
       "c     cow    3     80\n",
       "d  deepak   11     73\n",
       "e    eric   12     93\n",
       "f    fani   13     84"
      ]
     },
     "execution_count": 146,
     "metadata": {},
     "output_type": "execute_result"
    }
   ],
   "source": [
    "import pandas as pd\n",
    "\n",
    "df1 = pd.DataFrame({'name':pd.Series({'a':'ankit','b':'baskar','c':'cow'}), 'age':pd.Series({'a':1,'b':2,'c':3}), 'score':pd.Series({'a':70,'b':99,'c':80})})\n",
    "df2 = pd.DataFrame({'name':pd.Series({'d':'deepak','e':'eric','f':'fani'}), 'age':pd.Series({'d':11,'e':12,'f':13}), 'score':pd.Series({'d':73,'e':93,'f':84})})\n",
    "\n",
    "#Join along rows is a union of 2 dataframes, maintaining unique indexes\n",
    "df = pd.concat([df1,df2], axis=0)\n",
    "df"
   ]
  },
  {
   "cell_type": "markdown",
   "metadata": {},
   "source": [
    "# Question 9:\n",
    "Write a Pandas program to detect missing values of a given DataFrame. Display True or False."
   ]
  },
  {
   "cell_type": "code",
   "execution_count": 135,
   "metadata": {},
   "outputs": [
    {
     "name": "stdout",
     "output_type": "stream",
     "text": [
      "1\n",
      "Missing Values:  True\n",
      "0\n",
      "Missing Values:  False\n",
      "1\n",
      "Missing Values:  True\n"
     ]
    }
   ],
   "source": [
    "import pandas as pd\n",
    "\n",
    "def any_missing_values(df):\n",
    "    missing = df.isnull().sum().sum()\n",
    "    print(missing)\n",
    "    return bool(missing)\n",
    "\n",
    "print(\"Missing Values: \", any_missing_values(pd.DataFrame({'name':pd.Series({'a':'ankit','b':'baskar','c':'cow'}), 'age':pd.Series({'a':1,'c':3}), 'score':pd.Series({'a':70,'b':99,'c':80})})))\n",
    "print(\"Missing Values: \", any_missing_values(pd.DataFrame({'name':pd.Series({'a':'ankit','b':'baskar','c':'cow'}), 'age':pd.Series({'a':1,'b':2,'c':3}), 'score':pd.Series({'a':70,'b':99,'c':80})})))\n",
    "print(\"Missing Values: \", any_missing_values(pd.DataFrame({'name':pd.Series({'a':'ankit','b':'baskar','c':'cow'}), 'age':pd.Series({'a':1,'b':2,'c':3}), 'score':pd.Series({'a':70,'c':80})})))"
   ]
  },
  {
   "cell_type": "markdown",
   "metadata": {},
   "source": [
    "# Question 10:\n",
    "Write a Pandas program to create and display a one-dimensional array-like object containing an array of\n",
    "data."
   ]
  },
  {
   "cell_type": "code",
   "execution_count": 137,
   "metadata": {},
   "outputs": [
    {
     "name": "stdout",
     "output_type": "stream",
     "text": [
      "num_series: \n",
      " 0     1\n",
      "1     2\n",
      "2     3\n",
      "3     4\n",
      "4     5\n",
      "5     6\n",
      "6     7\n",
      "7     8\n",
      "8     9\n",
      "9    10\n",
      "dtype: int64 \n",
      "num_series dimension:  1\n",
      "\n",
      "onedim_df: \n",
      "     0\n",
      "0   1\n",
      "1   2\n",
      "2   3\n",
      "3   4\n",
      "4   5\n",
      "5   6\n",
      "6   7\n",
      "7   8\n",
      "8   9\n",
      "9  10 \n",
      "onedim_df dimension:  (10, 1)\n"
     ]
    }
   ],
   "source": [
    "import pandas as pd\n",
    "import numpy as np\n",
    "\n",
    "#Series is a one dimensional array-like object containing array of data (below is the answer)\n",
    "num_series = pd.Series([1,2,3,4,5,6,7,8,9,10])\n",
    "print(\"num_series: \\n\",num_series,'\\nnum_series dimension: ',num_series.ndim)\n",
    "\n",
    "#Could also create a dataframe from 1 dimension as well, which represents 1 column with shape 10x1\n",
    "onedim_df = pd.DataFrame(num_series)\n",
    "print(\"\\nonedim_df: \\n\",onedim_df,'\\nonedim_df dimension: ',onedim_df.shape)\n"
   ]
  }
 ],
 "metadata": {
  "kernelspec": {
   "display_name": "Python 3",
   "language": "python",
   "name": "python3"
  },
  "language_info": {
   "codemirror_mode": {
    "name": "ipython",
    "version": 3
   },
   "file_extension": ".py",
   "mimetype": "text/x-python",
   "name": "python",
   "nbconvert_exporter": "python",
   "pygments_lexer": "ipython3",
   "version": "3.8.1"
  }
 },
 "nbformat": 4,
 "nbformat_minor": 4
}
